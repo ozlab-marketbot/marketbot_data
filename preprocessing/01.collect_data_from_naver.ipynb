{
 "cells": [
  {
   "cell_type": "code",
   "execution_count": 2,
   "id": "f3d6ee23-453f-4ed0-9165-001176cffb4a",
   "metadata": {},
   "outputs": [],
   "source": [
    "import requests\n",
    "import pandas as pd\n",
    "import time"
   ]
  },
  {
   "cell_type": "code",
   "execution_count": 3,
   "id": "ada68f52-341e-49c8-96e2-abec3a7767d3",
   "metadata": {},
   "outputs": [],
   "source": [
    "client_id = \"1mzG5EGAwv2iflWzeLQU\"\n",
    "client_secret = \"4C8wTnqCRD\""
   ]
  },
  {
   "cell_type": "code",
   "execution_count": 11,
   "id": "0ecfd626-633f-431f-a239-fbcb7417b7eb",
   "metadata": {},
   "outputs": [],
   "source": [
    "with open(\"keywords_by_category.txt\", \"r\", encoding=\"utf-8\") as f:\n",
    "    keywords = [line.strip() for line in f if line.strip()]\n",
    "\n",
    "def search_naver_shopping(query, display=30):\n",
    "    url = \"https://openapi.naver.com/v1/search/shop.json\"\n",
    "    headers = {\n",
    "        \"X-Naver-Client-Id\": client_id,\n",
    "        \"X-Naver-Client-Secret\": client_secret\n",
    "    }\n",
    "    params = {\n",
    "        \"query\": query,\n",
    "        \"display\": display,\n",
    "        \"sort\": \"sim\"\n",
    "    }\n",
    "\n",
    "    response = requests.get(url, headers=headers, params=params)\n",
    "    if response.status_code == 200:\n",
    "        return response.json()['items']\n",
    "    else:\n",
    "        print(f\"Error: {response.status_code}\")\n",
    "        return []\n"
   ]
  },
  {
   "cell_type": "code",
   "execution_count": 12,
   "id": "022a9f23-37c4-4908-8144-9108bb745799",
   "metadata": {},
   "outputs": [
    {
     "name": "stdout",
     "output_type": "stream",
     "text": [
      "CSV 저장 완료\n"
     ]
    }
   ],
   "source": [
    "results = []\n",
    "\n",
    "for keyword in keywords:\n",
    "    items = search_naver_shopping(keyword)\n",
    "    for item in items:\n",
    "        results.append({\n",
    "            'keyword': keyword,\n",
    "            'title': item['title'].replace('<b>', '').replace('</b>', ''),\n",
    "            'link': item['link'],\n",
    "            'image': item['image'],\n",
    "            'lprice': int(item['lprice']),\n",
    "            'hprice': item.get('hprice', ''),\n",
    "            'brand': item.get('brand', ''),\n",
    "            'maker': item.get('maker', ''),\n",
    "            'productId': item.get('productId', ''),\n",
    "            'category1': item.get('category1', ''),\n",
    "            'category2': item.get('category2', ''),\n",
    "            'category3': item.get('category3', ''),\n",
    "            'category4': item.get('category4', ''),\n",
    "            'mallName': item.get('mallName', '')\n",
    "        })\n",
    "\n",
    "    time.sleep(0.5)\n",
    "\n",
    "df = pd.DataFrame(results)\n",
    "df.to_csv(\"naver_shopping_raw_data.csv\", index=False, encoding='utf-8-sig')\n",
    "\n",
    "print(\"CSV 저장 완료\")"
   ]
  },
  {
   "cell_type": "code",
   "execution_count": 14,
   "id": "435a0272-d1e4-480e-ac2d-e9973dfa888a",
   "metadata": {},
   "outputs": [
    {
     "data": {
      "text/plain": [
       "(2400, 14)"
      ]
     },
     "execution_count": 14,
     "metadata": {},
     "output_type": "execute_result"
    }
   ],
   "source": [
    "df.shape"
   ]
  },
  {
   "cell_type": "code",
   "execution_count": null,
   "id": "3243d4a9-398c-4e66-9ff4-0a33464917cc",
   "metadata": {},
   "outputs": [],
   "source": []
  }
 ],
 "metadata": {
  "kernelspec": {
   "display_name": "Python (naver_env)",
   "language": "python",
   "name": "naver_env"
  },
  "language_info": {
   "codemirror_mode": {
    "name": "ipython",
    "version": 3
   },
   "file_extension": ".py",
   "mimetype": "text/x-python",
   "name": "python",
   "nbconvert_exporter": "python",
   "pygments_lexer": "ipython3",
   "version": "3.13.2"
  }
 },
 "nbformat": 4,
 "nbformat_minor": 5
}
