{
 "cells": [
  {
   "cell_type": "markdown",
   "id": "9915a3c2-7c7d-4353-961d-6e1b3dc6dfdb",
   "metadata": {},
   "source": [
    "## 1. raw data 받아오기"
   ]
  },
  {
   "cell_type": "code",
   "execution_count": 1,
   "id": "3ae105a0-2fe4-4f91-8dab-894be4167b42",
   "metadata": {},
   "outputs": [],
   "source": [
    "import pandas as pd\n",
    "df = pd.read_csv(\"naver_shopping_raw_data1.csv\")"
   ]
  },
  {
   "cell_type": "code",
   "execution_count": 2,
   "id": "ebbecb17-d4d4-4886-8ff5-ef1f27734e15",
   "metadata": {},
   "outputs": [
    {
     "data": {
      "text/plain": [
       "(2400, 14)"
      ]
     },
     "execution_count": 2,
     "metadata": {},
     "output_type": "execute_result"
    }
   ],
   "source": [
    "df.shape"
   ]
  },
  {
   "cell_type": "markdown",
   "id": "0f29dd49-0ab1-4992-935f-cb2b3d852be4",
   "metadata": {},
   "source": [
    "## 2. column name  통일하기"
   ]
  },
  {
   "cell_type": "code",
   "execution_count": 3,
   "id": "0469966b-ebdb-4717-b640-f75e56e27ff6",
   "metadata": {},
   "outputs": [],
   "source": [
    "# hprice, link 콜럼 지우기\n",
    "df = df.drop('hprice', axis=1)\n",
    "df = df.drop('link', axis=1)\n",
    "\n",
    "# lprice => sale_price 이름 바꾸기\n",
    "df.rename(columns={'lprice': 'sale_price'}, inplace=True)\n",
    "\n",
    "# 'apiSource' column 추가하기\n",
    "df['api_source'] = '네이버'\n",
    "\n",
    "# title => product_name 이름 바꾸기\n",
    "df.rename(columns={'title': 'product_name'}, inplace=True)\n",
    "\n",
    "# productId => product_id 이름 바꾸기\n",
    "df.rename(columns={'productId': 'product_id'}, inplace=True)\n",
    "\n",
    "# mallName => mall_name 이름 바꾸기\n",
    "df.rename(columns={'mallName': 'mall_name'}, inplace=True)\n"
   ]
  },
  {
   "cell_type": "markdown",
   "id": "62ce8f77-a547-4384-9b59-9bb27de0b3c5",
   "metadata": {},
   "source": [
    "## brand, maker 결측치 제거"
   ]
  },
  {
   "cell_type": "code",
   "execution_count": 4,
   "id": "9240db74-3025-41a5-a9da-bf0827638630",
   "metadata": {},
   "outputs": [],
   "source": [
    "# brand, maker 둘 다 데이터가 없을 경우 데이터 삭제\n",
    "import numpy as np\n",
    "\n",
    "df['brand'] = df['brand'].replace('', np.nan)\n",
    "df['maker'] = df['maker'].replace('', np.nan)\n",
    "\n",
    "df = df.dropna(subset=['brand', 'maker'], how='all')"
   ]
  },
  {
   "cell_type": "code",
   "execution_count": 5,
   "id": "b885532a-e866-480d-bf7b-a56f8d3d3a3d",
   "metadata": {},
   "outputs": [
    {
     "data": {
      "text/plain": [
       "(1912, 13)"
      ]
     },
     "execution_count": 5,
     "metadata": {},
     "output_type": "execute_result"
    }
   ],
   "source": [
    "df.shape"
   ]
  },
  {
   "cell_type": "code",
   "execution_count": 6,
   "id": "b2c036cf-8f4c-4c31-904e-6d384df6e28d",
   "metadata": {},
   "outputs": [
    {
     "data": {
      "text/plain": [
       "brand  maker\n",
       "3651   NaN      1\n",
       "어메이즈핏  NaN      1\n",
       "앱코     NaN      1\n",
       "애트놀라   NaN      1\n",
       "애터미    NaN      1\n",
       "               ..\n",
       "니케     NaN      5\n",
       "이케아    NaN      6\n",
       "다이소    NaN      6\n",
       "정직한패드  NaN      7\n",
       "쉬즈미스   NaN      7\n",
       "Length: 345, dtype: int64"
      ]
     },
     "execution_count": 6,
     "metadata": {},
     "output_type": "execute_result"
    }
   ],
   "source": [
    "# brand는 있고 maker는 없는 경우\n",
    "df[pd.isna(df['maker'])].groupby(['brand', 'maker'], dropna=False).size().sort_values()"
   ]
  },
  {
   "cell_type": "code",
   "execution_count": 7,
   "id": "5c221ead-deaa-4450-9e2d-24791182e6de",
   "metadata": {},
   "outputs": [
    {
     "data": {
      "text/plain": [
       "brand  maker\n",
       "NaN    메디퓨어     1\n",
       "       문교       1\n",
       "       돈키호테     1\n",
       "       리빙스토리    2\n",
       "       모나미      2\n",
       "       해피라인     2\n",
       "       ALT      2\n",
       "       엠클로      3\n",
       "       해인       3\n",
       "       해피앤퍼피    6\n",
       "dtype: int64"
      ]
     },
     "execution_count": 7,
     "metadata": {},
     "output_type": "execute_result"
    }
   ],
   "source": [
    "# maker는 있고 brand는 없는 경우\n",
    "df[pd.isna(df['brand'])].groupby(['brand', 'maker'], dropna=False).size().sort_values().tail(10)"
   ]
  },
  {
   "cell_type": "code",
   "execution_count": 8,
   "id": "6ef0dc83-380e-45a5-a4a1-0fccf1e1f255",
   "metadata": {},
   "outputs": [
    {
     "data": {
      "text/plain": [
       "(812,)"
      ]
     },
     "execution_count": 8,
     "metadata": {},
     "output_type": "execute_result"
    }
   ],
   "source": [
    "# 브랜드 종류 개수\n",
    "df.groupby('brand').size().shape"
   ]
  },
  {
   "cell_type": "code",
   "execution_count": 9,
   "id": "25c5a24c-18a2-43ce-af29-d6ff71bba7f3",
   "metadata": {},
   "outputs": [
    {
     "data": {
      "text/plain": [
       "(569,)"
      ]
     },
     "execution_count": 9,
     "metadata": {},
     "output_type": "execute_result"
    }
   ],
   "source": [
    "# 메이커 종류 개수\n",
    "df.groupby('maker').size().shape"
   ]
  },
  {
   "cell_type": "code",
   "execution_count": 10,
   "id": "ef8e6d19-656a-4313-9b97-8e733c648c82",
   "metadata": {},
   "outputs": [],
   "source": [
    "# brand == nan & maker는 있는 경우, brand에 maker 복붙하기\n",
    "df.loc[df['brand'].isna(), 'brand'] = df.loc[df['brand'].isna(), 'maker']"
   ]
  },
  {
   "cell_type": "code",
   "execution_count": 11,
   "id": "bd2f1b9a-9d02-41e1-b2c2-31263aa2bfbc",
   "metadata": {},
   "outputs": [],
   "source": [
    "# maker == nan & brand는 있는 경우, maker에 brand 복붙하기\n",
    "df.loc[df['maker'].isna(), 'maker'] = df.loc[df['maker'].isna(), 'brand']"
   ]
  },
  {
   "cell_type": "code",
   "execution_count": 12,
   "id": "4f36df2d-47af-4509-bd05-7d58a1369f60",
   "metadata": {},
   "outputs": [
    {
     "data": {
      "text/plain": [
       "(1912, 13)"
      ]
     },
     "execution_count": 12,
     "metadata": {},
     "output_type": "execute_result"
    }
   ],
   "source": [
    "df.shape"
   ]
  },
  {
   "cell_type": "code",
   "execution_count": 13,
   "id": "8b5c4d57-fa41-47e4-9b40-714a9c29b598",
   "metadata": {},
   "outputs": [
    {
     "data": {
      "text/html": [
       "<div>\n",
       "<style scoped>\n",
       "    .dataframe tbody tr th:only-of-type {\n",
       "        vertical-align: middle;\n",
       "    }\n",
       "\n",
       "    .dataframe tbody tr th {\n",
       "        vertical-align: top;\n",
       "    }\n",
       "\n",
       "    .dataframe thead th {\n",
       "        text-align: right;\n",
       "    }\n",
       "</style>\n",
       "<table border=\"1\" class=\"dataframe\">\n",
       "  <thead>\n",
       "    <tr style=\"text-align: right;\">\n",
       "      <th></th>\n",
       "      <th>keyword</th>\n",
       "      <th>product_name</th>\n",
       "      <th>image</th>\n",
       "      <th>sale_price</th>\n",
       "      <th>brand</th>\n",
       "      <th>maker</th>\n",
       "      <th>product_id</th>\n",
       "      <th>category1</th>\n",
       "      <th>category2</th>\n",
       "      <th>category3</th>\n",
       "      <th>category4</th>\n",
       "      <th>mall_name</th>\n",
       "      <th>api_source</th>\n",
       "    </tr>\n",
       "  </thead>\n",
       "  <tbody>\n",
       "    <tr>\n",
       "      <th>0</th>\n",
       "      <td>노트북</td>\n",
       "      <td>삼성 갤럭시북 인강용 사무용 업무용 가성비 윈도우11 저가 싼 태블릿 노트북 추천 기본팩</td>\n",
       "      <td>https://shopping-phinf.pstatic.net/main_879523...</td>\n",
       "      <td>399000</td>\n",
       "      <td>갤럭시북</td>\n",
       "      <td>삼성전자</td>\n",
       "      <td>87952389253</td>\n",
       "      <td>디지털/가전</td>\n",
       "      <td>노트북</td>\n",
       "      <td>NaN</td>\n",
       "      <td>NaN</td>\n",
       "      <td>삼성공식파트너 코인비엠에스</td>\n",
       "      <td>네이버</td>\n",
       "    </tr>\n",
       "    <tr>\n",
       "      <th>1</th>\n",
       "      <td>노트북</td>\n",
       "      <td>삼성전자 갤럭시북4 NT750XGR-A51A 16GB, 256GB</td>\n",
       "      <td>https://shopping-phinf.pstatic.net/main_526312...</td>\n",
       "      <td>682990</td>\n",
       "      <td>갤럭시북4</td>\n",
       "      <td>삼성전자</td>\n",
       "      <td>52631236642</td>\n",
       "      <td>디지털/가전</td>\n",
       "      <td>노트북</td>\n",
       "      <td>NaN</td>\n",
       "      <td>NaN</td>\n",
       "      <td>네이버</td>\n",
       "      <td>네이버</td>\n",
       "    </tr>\n",
       "    <tr>\n",
       "      <th>2</th>\n",
       "      <td>노트북</td>\n",
       "      <td>삼성전자 갤럭시북5 프로 NT960XHA-K52A 32GB, 1TB</td>\n",
       "      <td>https://shopping-phinf.pstatic.net/main_536640...</td>\n",
       "      <td>1975560</td>\n",
       "      <td>갤럭시북5 프로</td>\n",
       "      <td>삼성전자</td>\n",
       "      <td>53664048296</td>\n",
       "      <td>디지털/가전</td>\n",
       "      <td>노트북</td>\n",
       "      <td>NaN</td>\n",
       "      <td>NaN</td>\n",
       "      <td>네이버</td>\n",
       "      <td>네이버</td>\n",
       "    </tr>\n",
       "    <tr>\n",
       "      <th>3</th>\n",
       "      <td>노트북</td>\n",
       "      <td>LG전자 울트라PC 라이젠5 사무용 인강용 저렴한 8GB NVMe256GB LG노트북</td>\n",
       "      <td>https://shopping-phinf.pstatic.net/main_837187...</td>\n",
       "      <td>599000</td>\n",
       "      <td>LG전자</td>\n",
       "      <td>LG전자</td>\n",
       "      <td>83718736488</td>\n",
       "      <td>디지털/가전</td>\n",
       "      <td>노트북</td>\n",
       "      <td>NaN</td>\n",
       "      <td>NaN</td>\n",
       "      <td>제이 씨앤에스</td>\n",
       "      <td>네이버</td>\n",
       "    </tr>\n",
       "    <tr>\n",
       "      <th>4</th>\n",
       "      <td>노트북</td>\n",
       "      <td>삼성 노트북 갤럭시북 i5 16GB 256GB OS미포함 인강용 사무용 NT550XEZ</td>\n",
       "      <td>https://shopping-phinf.pstatic.net/main_830162...</td>\n",
       "      <td>649000</td>\n",
       "      <td>삼성</td>\n",
       "      <td>삼성전자</td>\n",
       "      <td>83016270660</td>\n",
       "      <td>디지털/가전</td>\n",
       "      <td>노트북</td>\n",
       "      <td>NaN</td>\n",
       "      <td>NaN</td>\n",
       "      <td>스피드썬</td>\n",
       "      <td>네이버</td>\n",
       "    </tr>\n",
       "  </tbody>\n",
       "</table>\n",
       "</div>"
      ],
      "text/plain": [
       "  keyword                                       product_name  \\\n",
       "0     노트북  삼성 갤럭시북 인강용 사무용 업무용 가성비 윈도우11 저가 싼 태블릿 노트북 추천 기본팩   \n",
       "1     노트북               삼성전자 갤럭시북4 NT750XGR-A51A 16GB, 256GB   \n",
       "2     노트북              삼성전자 갤럭시북5 프로 NT960XHA-K52A 32GB, 1TB   \n",
       "3     노트북    LG전자 울트라PC 라이젠5 사무용 인강용 저렴한 8GB NVMe256GB LG노트북   \n",
       "4     노트북   삼성 노트북 갤럭시북 i5 16GB 256GB OS미포함 인강용 사무용 NT550XEZ   \n",
       "\n",
       "                                               image  sale_price     brand  \\\n",
       "0  https://shopping-phinf.pstatic.net/main_879523...      399000      갤럭시북   \n",
       "1  https://shopping-phinf.pstatic.net/main_526312...      682990     갤럭시북4   \n",
       "2  https://shopping-phinf.pstatic.net/main_536640...     1975560  갤럭시북5 프로   \n",
       "3  https://shopping-phinf.pstatic.net/main_837187...      599000      LG전자   \n",
       "4  https://shopping-phinf.pstatic.net/main_830162...      649000        삼성   \n",
       "\n",
       "  maker   product_id category1 category2 category3 category4       mall_name  \\\n",
       "0  삼성전자  87952389253    디지털/가전       노트북       NaN       NaN  삼성공식파트너 코인비엠에스   \n",
       "1  삼성전자  52631236642    디지털/가전       노트북       NaN       NaN             네이버   \n",
       "2  삼성전자  53664048296    디지털/가전       노트북       NaN       NaN             네이버   \n",
       "3  LG전자  83718736488    디지털/가전       노트북       NaN       NaN         제이 씨앤에스   \n",
       "4  삼성전자  83016270660    디지털/가전       노트북       NaN       NaN            스피드썬   \n",
       "\n",
       "  api_source  \n",
       "0        네이버  \n",
       "1        네이버  \n",
       "2        네이버  \n",
       "3        네이버  \n",
       "4        네이버  "
      ]
     },
     "execution_count": 13,
     "metadata": {},
     "output_type": "execute_result"
    }
   ],
   "source": [
    "df.head()"
   ]
  },
  {
   "cell_type": "markdown",
   "id": "aa692d2a-d0f6-4a52-a5fd-a120926ca7c7",
   "metadata": {},
   "source": [
    "## 4. 카테고리 결측치 통계"
   ]
  },
  {
   "cell_type": "markdown",
   "id": "da996a6b-97ac-4a8f-883a-39dab6448c9f",
   "metadata": {},
   "source": [
    "- category3 데이터가 없는 경우: 총 60개\n",
    "- category4 데이터가 없는 경우: 총 753개\n",
    "- category1, category2는 결측치 없음."
   ]
  },
  {
   "cell_type": "code",
   "execution_count": 14,
   "id": "b364a421-3529-4642-aefd-eebf9910adb1",
   "metadata": {},
   "outputs": [
    {
     "data": {
      "text/plain": [
       "category1  category2\n",
       "디지털/가전     노트북          30\n",
       "           태블릿PC        30\n",
       "dtype: int64"
      ]
     },
     "execution_count": 14,
     "metadata": {},
     "output_type": "execute_result"
    }
   ],
   "source": [
    "# category3 데이터가 없는 경우\n",
    "df[pd.isna(df['category3'])].groupby(['category1', 'category2'], dropna=False).size().sort_values()"
   ]
  },
  {
   "cell_type": "code",
   "execution_count": 15,
   "id": "b378684d-7c97-4da5-8072-ccb6e1ca7b74",
   "metadata": {},
   "outputs": [
    {
     "data": {
      "text/plain": [
       "category1  category2  category3\n",
       "화장품/미용     마스크/팩      워시오프팩         1\n",
       "패션의류       여성의류       조끼            1\n",
       "           남성의류       재킷            3\n",
       "화장품/미용     향수         남녀공용향수        3\n",
       "패션의류       여성의류       티셔츠           4\n",
       "출산/육아      유아동의류      점퍼            4\n",
       "패션의류       여성의류       트레이닝복         6\n",
       "디지털/가전     휴대폰        공기계/중고폰       8\n",
       "패션의류       여성의류       원피스           8\n",
       "           남성의류       청바지           9\n",
       "           여성의류       청바지          10\n",
       "                      점퍼           10\n",
       "생활/건강      세탁용품       세탁망          13\n",
       "패션의류       여성의류       바지           13\n",
       "                      블라우스/셔츠      15\n",
       "           남성의류       트레이닝복        16\n",
       "생활/건강      세탁용품       빨래바구니        19\n",
       "패션의류       여성의류       재킷           21\n",
       "디지털/가전     휴대폰        자급제폰         21\n",
       "가구/인테리어    침실가구       서랍장          22\n",
       "디지털/가전     태블릿PC액세서리  스탠드/Dock     22\n",
       "식품         과자/베이커리    젤리           23\n",
       "화장품/미용     향수         남성향수         24\n",
       "생활/건강      주방용품       도마           24\n",
       "화장품/미용     마스크/팩      마스크시트        24\n",
       "           스킨케어       스킨/토너        28\n",
       "식품         냉동/간편조리식품  즉석밥          28\n",
       "화장품/미용     클렌징        클렌징폼         29\n",
       "디지털/가전     주방가전       믹서기          29\n",
       "                      인덕션          30\n",
       "                      전자레인지        30\n",
       "           노트북        NaN          30\n",
       "화장품/미용     색조메이크업     립스틱          30\n",
       "           선케어        선크림          30\n",
       "           스킨케어       로션           30\n",
       "디지털/가전     태블릿PC      NaN          30\n",
       "           휴대폰액세서리    웨어러블 디바이스    30\n",
       "           주방가전       에어프라이어       30\n",
       "패션의류       남성의류       티셔츠          45\n",
       "dtype: int64"
      ]
     },
     "execution_count": 15,
     "metadata": {},
     "output_type": "execute_result"
    }
   ],
   "source": [
    "# category4 데이터가 없는 경우\n",
    "df[pd.isna(df['category4'])].groupby(['category1', 'category2', 'category3'], dropna=False).size().sort_values()"
   ]
  },
  {
   "cell_type": "code",
   "execution_count": 16,
   "id": "c85c97b9-41d8-45a1-ab0b-df8dc56f5192",
   "metadata": {},
   "outputs": [
    {
     "data": {
      "text/plain": [
       "Index(['keyword', 'product_name', 'image', 'sale_price', 'brand', 'maker',\n",
       "       'product_id', 'category1', 'category2', 'category3', 'category4',\n",
       "       'mall_name', 'api_source'],\n",
       "      dtype='object')"
      ]
     },
     "execution_count": 16,
     "metadata": {},
     "output_type": "execute_result"
    }
   ],
   "source": [
    "df.columns"
   ]
  },
  {
   "cell_type": "code",
   "execution_count": 17,
   "id": "79ce907d-0a4b-4203-9c5e-2ed68795269d",
   "metadata": {},
   "outputs": [
    {
     "data": {
      "text/plain": [
       "(0, 13)"
      ]
     },
     "execution_count": 17,
     "metadata": {},
     "output_type": "execute_result"
    }
   ],
   "source": [
    "df[pd.isna(df['product_name'])].shape"
   ]
  },
  {
   "cell_type": "code",
   "execution_count": 18,
   "id": "5d93ae03-3a95-43e4-95d1-e87066596d96",
   "metadata": {},
   "outputs": [],
   "source": [
    "df.to_csv(\"naver_shopping_results_final2.csv\", index=False, encoding='utf-8-sig')"
   ]
  }
 ],
 "metadata": {
  "kernelspec": {
   "display_name": "Python (naver_env)",
   "language": "python",
   "name": "naver_env"
  },
  "language_info": {
   "codemirror_mode": {
    "name": "ipython",
    "version": 3
   },
   "file_extension": ".py",
   "mimetype": "text/x-python",
   "name": "python",
   "nbconvert_exporter": "python",
   "pygments_lexer": "ipython3",
   "version": "3.13.2"
  }
 },
 "nbformat": 4,
 "nbformat_minor": 5
}
